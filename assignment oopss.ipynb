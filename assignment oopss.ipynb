{
 "cells": [
  {
   "cell_type": "markdown",
   "id": "f19d0481-0d2d-4d96-b099-43be1e342c86",
   "metadata": {},
   "source": [
    "                                              Assingment"
   ]
  },
  {
   "cell_type": "markdown",
   "id": "cfceca1c-eeae-4c9f-9314-c7d25026811b",
   "metadata": {},
   "source": [
    "Q1, Create a vehicle class with an init method having instance variables as name_of_vehicle, max_speed\n",
    "and average_of_vehicle."
   ]
  },
  {
   "cell_type": "code",
   "execution_count": 1,
   "id": "b63714e6-b0a1-4e2d-a802-8dfd1809545d",
   "metadata": {},
   "outputs": [],
   "source": [
    " class Vehicle:\n",
    "    def __init__(self, name_of_vehicle, max_speed, average_of_vehicle):\n",
    "        self.name_of_vehicle = name_of_vehicle\n",
    "        self.max_speed = max_speed\n",
    "        self.average_of_vehicle = average_of_vehicle"
   ]
  },
  {
   "cell_type": "code",
   "execution_count": 4,
   "id": "89d139b8-6e86-40d6-aa7a-52d3f36bfed7",
   "metadata": {},
   "outputs": [],
   "source": [
    "car = Vehicle(\"Car\", 200, 30)\n"
   ]
  },
  {
   "cell_type": "code",
   "execution_count": 5,
   "id": "61831f90-3004-448c-b042-2b1dc5eed772",
   "metadata": {},
   "outputs": [
    {
     "data": {
      "text/plain": [
       "'Car'"
      ]
     },
     "execution_count": 5,
     "metadata": {},
     "output_type": "execute_result"
    }
   ],
   "source": [
    "car.name_of_vehicle    "
   ]
  },
  {
   "cell_type": "code",
   "execution_count": 6,
   "id": "fecc1a43-70ea-4afd-abba-51435a956074",
   "metadata": {},
   "outputs": [
    {
     "data": {
      "text/plain": [
       "200"
      ]
     },
     "execution_count": 6,
     "metadata": {},
     "output_type": "execute_result"
    }
   ],
   "source": [
    "car.max_speed"
   ]
  },
  {
   "cell_type": "code",
   "execution_count": 7,
   "id": "bbfd47ec-85d5-4a05-b6de-064214eddff0",
   "metadata": {},
   "outputs": [
    {
     "data": {
      "text/plain": [
       "30"
      ]
     },
     "execution_count": 7,
     "metadata": {},
     "output_type": "execute_result"
    }
   ],
   "source": [
    "car.average_of_vehicle"
   ]
  },
  {
   "cell_type": "markdown",
   "id": "1d5232b8-7e0a-48de-9077-f9fd510ea81e",
   "metadata": {},
   "source": [
    "Q2. Create a child class car from the vehicle class created in Que 1, which will inherit the vehicle class.\n",
    "Create a method named seating_capacity which takes capacity as an argument and returns the name of\n",
    "the vehicle and its seating capacity."
   ]
  },
  {
   "cell_type": "code",
   "execution_count": 8,
   "id": "46009b2c-d8f2-434e-a187-6b6281d48681",
   "metadata": {},
   "outputs": [],
   "source": [
    "class Car(Vehicle):\n",
    "    def __init__(self, name_of_vehicle, max_speed, average_of_vehicle):\n",
    "        super().__init__(name_of_vehicle, max_speed, average_of_vehicle)\n",
    "    \n",
    "    def seating_capacity(self, capacity):\n",
    "        return f\"The {self.name_of_vehicle} has a seating capacity of {capacity}.\"\n"
   ]
  },
  {
   "cell_type": "code",
   "execution_count": 9,
   "id": "08173aa5-ac28-4b8b-bf78-74aaeb90b625",
   "metadata": {},
   "outputs": [],
   "source": [
    "car = Car(\"S\", 180, 5)"
   ]
  },
  {
   "cell_type": "code",
   "execution_count": 10,
   "id": "e8e31c8f-b2e4-42cf-9778-d498020d13f6",
   "metadata": {},
   "outputs": [
    {
     "data": {
      "text/plain": [
       "'The Sedan has a seating capacity of 5.'"
      ]
     },
     "execution_count": 10,
     "metadata": {},
     "output_type": "execute_result"
    }
   ],
   "source": [
    "(car.seating_capacity(5)) "
   ]
  },
  {
   "cell_type": "markdown",
   "id": "8630700d-0a5b-42cb-ab7f-bcc2dea89b37",
   "metadata": {},
   "source": [
    "Q3. What is multiple inheritance? Write a python code to demonstrate multiple inheritance."
   ]
  },
  {
   "cell_type": "code",
   "execution_count": 12,
   "id": "924df409-81f5-4e23-8630-37ba00bb5389",
   "metadata": {},
   "outputs": [],
   "source": [
    "class Animal:\n",
    "    def __init__(self, name):\n",
    "        self.name = name\n",
    "    \n",
    "    def eat(self):\n",
    "        print(f\"{self.name} is eating.\")\n",
    "\n",
    "class Flyable:\n",
    "    def fly(self):\n",
    "        print(\"Flying...\")\n",
    "\n",
    "class Bird(Animal, Flyable):\n",
    "    def __init__(self, name):\n",
    "        super().__init__(name)"
   ]
  },
  {
   "cell_type": "code",
   "execution_count": 13,
   "id": "1bf7ccf3-9b53-415a-b154-e33fd6cb8636",
   "metadata": {},
   "outputs": [],
   "source": [
    "bird = Bird(\"Sparrow\")"
   ]
  },
  {
   "cell_type": "code",
   "execution_count": 14,
   "id": "87ed5b7f-ef3a-42f5-9574-ef3bc77d525c",
   "metadata": {},
   "outputs": [
    {
     "name": "stdout",
     "output_type": "stream",
     "text": [
      "Sparrow is eating.\n"
     ]
    }
   ],
   "source": [
    "bird.eat() "
   ]
  },
  {
   "cell_type": "code",
   "execution_count": 15,
   "id": "4f4f84a4-ec52-43d1-b9a3-c20d27b2dba3",
   "metadata": {},
   "outputs": [
    {
     "name": "stdout",
     "output_type": "stream",
     "text": [
      "Flying...\n"
     ]
    }
   ],
   "source": [
    "bird.fly()  "
   ]
  },
  {
   "cell_type": "markdown",
   "id": "ba953c00-5fcf-4c6d-b89f-75b1ddc81d4f",
   "metadata": {},
   "source": [
    "Q4. What are getter and setter in python? Create a class and create a getter and a setter method in this\n",
    "class."
   ]
  },
  {
   "cell_type": "code",
   "execution_count": 16,
   "id": "5e949d63-b8b3-4e36-8c33-958841bd508a",
   "metadata": {},
   "outputs": [],
   "source": [
    "class Person:\n",
    "    def __init__(self, name):\n",
    "        self._name = name\n",
    "\n",
    "    def get_name(self):\n",
    "        return self._name\n",
    "\n",
    "    def set_name(self, new_name):\n",
    "        self._name = new_name"
   ]
  },
  {
   "cell_type": "code",
   "execution_count": 20,
   "id": "46ec6a69-da8b-48f2-8c5a-5700445cba7c",
   "metadata": {},
   "outputs": [],
   "source": [
    "person = Person(\"sonu\")"
   ]
  },
  {
   "cell_type": "code",
   "execution_count": 26,
   "id": "f2ef010c-f162-48eb-b80d-37f3b5243a4a",
   "metadata": {},
   "outputs": [
    {
     "data": {
      "text/plain": [
       "'ramu'"
      ]
     },
     "execution_count": 26,
     "metadata": {},
     "output_type": "execute_result"
    }
   ],
   "source": [
    "person.get_name() \n"
   ]
  },
  {
   "cell_type": "code",
   "execution_count": 34,
   "id": "02d03531-53c7-4234-97ce-c4758ce2fa89",
   "metadata": {},
   "outputs": [],
   "source": [
    "person.set_name(\"raju\")"
   ]
  },
  {
   "cell_type": "code",
   "execution_count": 35,
   "id": "7c772390-4f68-45e2-b610-2d8d793e6b4e",
   "metadata": {},
   "outputs": [
    {
     "data": {
      "text/plain": [
       "'raju'"
      ]
     },
     "execution_count": 35,
     "metadata": {},
     "output_type": "execute_result"
    }
   ],
   "source": [
    "person.get_name()"
   ]
  },
  {
   "cell_type": "markdown",
   "id": "37f07286-a7a8-46cb-8632-f7e0d20b886a",
   "metadata": {},
   "source": [
    "Q5.What is method overriding in python? Write a python code to demonstrate method overriding."
   ]
  },
  {
   "cell_type": "code",
   "execution_count": 36,
   "id": "d4d842e9-0f4c-4ab7-bfa1-e79747e3b321",
   "metadata": {},
   "outputs": [],
   "source": [
    "class Animal:\n",
    "    def sound(self):\n",
    "        print(\"Animal makes a sound.\")\n",
    "\n",
    "class Dog(Animal):\n",
    "    def sound(self):\n",
    "        print(\"Dog barks.\")\n",
    "\n",
    "class Cat(Animal):\n",
    "    def sound(self):\n",
    "        print(\"Cat meows.\") "
   ]
  },
  {
   "cell_type": "code",
   "execution_count": 37,
   "id": "b1ee5df8-f0af-44fe-b9b2-cda95335b2eb",
   "metadata": {},
   "outputs": [],
   "source": [
    "animal = Animal()"
   ]
  },
  {
   "cell_type": "code",
   "execution_count": 38,
   "id": "f3de5c48-d179-4a68-9b72-d98715a73031",
   "metadata": {},
   "outputs": [
    {
     "name": "stdout",
     "output_type": "stream",
     "text": [
      "Animal makes a sound.\n"
     ]
    }
   ],
   "source": [
    "animal.sound()  "
   ]
  },
  {
   "cell_type": "code",
   "execution_count": 39,
   "id": "bd6aaac8-a6ff-41d1-adf8-e252fa7a8044",
   "metadata": {},
   "outputs": [],
   "source": [
    "dog = Dog()"
   ]
  },
  {
   "cell_type": "code",
   "execution_count": 40,
   "id": "b4130b03-37e5-44bd-837d-73402a08d430",
   "metadata": {},
   "outputs": [
    {
     "name": "stdout",
     "output_type": "stream",
     "text": [
      "Dog barks.\n"
     ]
    }
   ],
   "source": [
    "dog.sound()"
   ]
  },
  {
   "cell_type": "code",
   "execution_count": 43,
   "id": "f4d2e878-bd41-4f8f-b60d-70e3fe8a7667",
   "metadata": {},
   "outputs": [],
   "source": [
    "cat = Cat()"
   ]
  },
  {
   "cell_type": "code",
   "execution_count": 44,
   "id": "59f1e05b-ae07-4ed4-9126-995767068d55",
   "metadata": {},
   "outputs": [
    {
     "name": "stdout",
     "output_type": "stream",
     "text": [
      "Cat meows.\n"
     ]
    }
   ],
   "source": [
    "cat.sound()"
   ]
  },
  {
   "cell_type": "code",
   "execution_count": null,
   "id": "686a0edd-4063-4207-807b-bc68553a1c3d",
   "metadata": {},
   "outputs": [],
   "source": []
  }
 ],
 "metadata": {
  "kernelspec": {
   "display_name": "Python 3 (ipykernel)",
   "language": "python",
   "name": "python3"
  },
  "language_info": {
   "codemirror_mode": {
    "name": "ipython",
    "version": 3
   },
   "file_extension": ".py",
   "mimetype": "text/x-python",
   "name": "python",
   "nbconvert_exporter": "python",
   "pygments_lexer": "ipython3",
   "version": "3.10.8"
  }
 },
 "nbformat": 4,
 "nbformat_minor": 5
}
